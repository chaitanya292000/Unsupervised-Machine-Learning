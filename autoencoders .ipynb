{
 "cells": [
  {
   "cell_type": "code",
   "execution_count": 1,
   "id": "6d5170a2",
   "metadata": {},
   "outputs": [],
   "source": [
    "import matplotlib.pyplot as plt\n",
    "from keras.datasets import mnist \n",
    "from keras.layers import Input , Dense \n",
    "from keras.models import Model"
   ]
  },
  {
   "cell_type": "code",
   "execution_count": 2,
   "id": "e93eb438",
   "metadata": {},
   "outputs": [],
   "source": [
    "# Loading The Data\n",
    "(x_train, _), (x_test, _) = mnist.load_data()"
   ]
  },
  {
   "cell_type": "code",
   "execution_count": 3,
   "id": "6b5f0e68",
   "metadata": {},
   "outputs": [],
   "source": [
    "# PreProcess The Data\n",
    "def pre_process(X):\n",
    "    X=X/255.0\n",
    "    X=X.reshape((len(X), 784))\n",
    "    return X"
   ]
  },
  {
   "cell_type": "code",
   "execution_count": 4,
   "id": "9e14b5cf",
   "metadata": {},
   "outputs": [],
   "source": [
    "x_train = pre_process(x_train)\n",
    "x_test = pre_process(x_test)"
   ]
  },
  {
   "cell_type": "code",
   "execution_count": 5,
   "id": "20bf1ff4",
   "metadata": {},
   "outputs": [],
   "source": [
    "# Function to Display The Data \n",
    "def display_data(data, height, width, title):\n",
    "    plt.figure(figsize=(10, 2))\n",
    "    for i in range(10):\n",
    "        ax=plt.subplot(1,10,i+1)\n",
    "        plt.imshow(data[i].reshape((height,width)))\n",
    "        plt.gray()      \n",
    "    plt.suptitle(title)"
   ]
  },
  {
   "cell_type": "code",
   "execution_count": 11,
   "id": "5b33a0db",
   "metadata": {},
   "outputs": [],
   "source": [
    "# Our AutoEncoder\n",
    "def AutoEncoder():\n",
    "    # Input Layer\n",
    "    input_layer=Input(shape=(784,), name=\"input_layer\")\n",
    "    \n",
    "    # encoder\n",
    "    h_1=Dense(256, activation='relu', name=\"hidden_layer_1\")(input_layer)\n",
    "    h_2=Dense(128, activation='relu', name=\"hidden_layer_2\")(h_1)\n",
    "    h_3=Dense(64, activation='relu', name=\"hidden_layer_3\")(h_2)\n",
    "    h_4=Dense(32, activation='relu', name=\"hidden_layer_4\")(h_3)\n",
    "    h_5=Dense(16, activation='relu', name=\"hidden_layer_5\")(h_4)\n",
    "    h_6=Dense(8, activation='relu', name=\"hidden_layer_6\")(h_5)\n",
    "    \n",
    "    # code layer\n",
    "    code_layer=Dense(4, activation='relu', name=\"code_layer\")(h_6)\n",
    "    \n",
    "    # decoder\n",
    "    h_7=Dense(8, activation='relu', name=\"hidden_layer_7\")(code_layer)\n",
    "    h_8=Dense(16, activation='relu', name=\"hidden_layer_8\")(h_7)\n",
    "    h_9=Dense(32, activation='relu', name=\"hidden_layer_9\")(h_8)\n",
    "    h_10=Dense(64, activation='relu', name=\"hidden_layer_10\")(h_9)\n",
    "    h_11=Dense(128, activation='relu', name=\"hidden_layer_11\")(h_10)\n",
    "    h_12=Dense(256, activation='relu', name=\"hidden_layer_12\")(h_11)\n",
    "    \n",
    "    # Output Layer\n",
    "    output_layer=Dense(784, activation='sigmoid', name=\"output_layer\")(h_12)\n",
    "    model=Model(input_layer, output_layer)\n",
    "    model.compile(optimizer='adam', loss='binary_crossentropy')\n",
    "    model.summary()\n",
    "    \n",
    "    return model\n"
   ]
  },
  {
   "cell_type": "code",
   "execution_count": 12,
   "id": "bad37f24",
   "metadata": {},
   "outputs": [
    {
     "name": "stdout",
     "output_type": "stream",
     "text": [
      "Model: \"model\"\n",
      "_________________________________________________________________\n",
      " Layer (type)                Output Shape              Param #   \n",
      "=================================================================\n",
      " input_layer (InputLayer)    [(None, 784)]             0         \n",
      "                                                                 \n",
      " hidden_layer_1 (Dense)      (None, 256)               200960    \n",
      "                                                                 \n",
      " hidden_layer_2 (Dense)      (None, 128)               32896     \n",
      "                                                                 \n",
      " hidden_layer_3 (Dense)      (None, 64)                8256      \n",
      "                                                                 \n",
      " hidden_layer_4 (Dense)      (None, 32)                2080      \n",
      "                                                                 \n",
      " hidden_layer_5 (Dense)      (None, 16)                528       \n",
      "                                                                 \n",
      " hidden_layer_6 (Dense)      (None, 8)                 136       \n",
      "                                                                 \n",
      " code_layer (Dense)          (None, 4)                 36        \n",
      "                                                                 \n",
      " hidden_layer_7 (Dense)      (None, 8)                 40        \n",
      "                                                                 \n",
      " hidden_layer_8 (Dense)      (None, 16)                144       \n",
      "                                                                 \n",
      " hidden_layer_9 (Dense)      (None, 32)                544       \n",
      "                                                                 \n",
      " hidden_layer_10 (Dense)     (None, 64)                2112      \n",
      "                                                                 \n",
      " hidden_layer_11 (Dense)     (None, 128)               8320      \n",
      "                                                                 \n",
      " hidden_layer_12 (Dense)     (None, 256)               33024     \n",
      "                                                                 \n",
      " output_layer (Dense)        (None, 784)               201488    \n",
      "                                                                 \n",
      "=================================================================\n",
      "Total params: 490,564\n",
      "Trainable params: 490,564\n",
      "Non-trainable params: 0\n",
      "_________________________________________________________________\n",
      "Epoch 1/20\n",
      "1875/1875 [==============================] - 22s 8ms/step - loss: 0.2383\n",
      "Epoch 2/20\n",
      "1875/1875 [==============================] - 16s 8ms/step - loss: 0.2198\n",
      "Epoch 3/20\n",
      "1875/1875 [==============================] - 16s 8ms/step - loss: 0.2055\n",
      "Epoch 4/20\n",
      "1875/1875 [==============================] - 16s 8ms/step - loss: 0.1929\n",
      "Epoch 5/20\n",
      "1875/1875 [==============================] - 16s 8ms/step - loss: 0.1903\n",
      "Epoch 6/20\n",
      "1875/1875 [==============================] - 16s 8ms/step - loss: 0.1869\n",
      "Epoch 7/20\n",
      "1875/1875 [==============================] - 16s 8ms/step - loss: 0.1833\n",
      "Epoch 8/20\n",
      "1875/1875 [==============================] - 16s 9ms/step - loss: 0.1838\n",
      "Epoch 9/20\n",
      "1875/1875 [==============================] - 16s 9ms/step - loss: 0.1843\n",
      "Epoch 10/20\n",
      "1875/1875 [==============================] - 16s 9ms/step - loss: 0.1852\n",
      "Epoch 11/20\n",
      "1875/1875 [==============================] - 16s 9ms/step - loss: 0.1809\n",
      "Epoch 12/20\n",
      "1875/1875 [==============================] - 16s 9ms/step - loss: 0.1830\n",
      "Epoch 13/20\n",
      "1875/1875 [==============================] - 16s 9ms/step - loss: 0.1819\n",
      "Epoch 14/20\n",
      "1875/1875 [==============================] - 16s 9ms/step - loss: 0.1810\n",
      "Epoch 15/20\n",
      "1875/1875 [==============================] - 16s 9ms/step - loss: 0.1809\n",
      "Epoch 16/20\n",
      "1875/1875 [==============================] - 16s 9ms/step - loss: 0.1796\n",
      "Epoch 17/20\n",
      "1875/1875 [==============================] - 16s 9ms/step - loss: 0.1790\n",
      "Epoch 18/20\n",
      "1875/1875 [==============================] - 16s 9ms/step - loss: 0.1771\n",
      "Epoch 19/20\n",
      "1875/1875 [==============================] - 16s 9ms/step - loss: 0.1770\n",
      "Epoch 20/20\n",
      "1875/1875 [==============================] - 16s 9ms/step - loss: 0.1781\n"
     ]
    },
    {
     "data": {
      "text/plain": [
       "<keras.callbacks.History at 0x21e657e9910>"
      ]
     },
     "execution_count": 12,
     "metadata": {},
     "output_type": "execute_result"
    }
   ],
   "source": [
    "# Training The Model\n",
    "Auto_Encoder=AutoEncoder()\n",
    "Auto_Encoder.fit(x_train, x_train, epochs=20) "
   ]
  },
  {
   "cell_type": "code",
   "execution_count": 13,
   "id": "4c208dfd",
   "metadata": {},
   "outputs": [
    {
     "name": "stdout",
     "output_type": "stream",
     "text": [
      "313/313 [==============================] - 4s 5ms/step\n"
     ]
    }
   ],
   "source": [
    "# Get The Decoded Data (The Final Output)\n",
    "decoded_data=Auto_Encoder.predict(x_test)"
   ]
  },
  {
   "cell_type": "code",
   "execution_count": 14,
   "id": "56a097cd",
   "metadata": {},
   "outputs": [],
   "source": [
    "# Get The Encoder Part of The Model \n",
    "encoder=Model(inputs=Auto_Encoder.input, outputs=Auto_Encoder.get_layer(\"code_layer\").output)"
   ]
  },
  {
   "cell_type": "code",
   "execution_count": 15,
   "id": "dc507551",
   "metadata": {},
   "outputs": [
    {
     "name": "stdout",
     "output_type": "stream",
     "text": [
      "313/313 [==============================] - 1s 4ms/step\n"
     ]
    }
   ],
   "source": [
    "# get The Encoded Data (compressed representation of size 2*2)\n",
    "encoded_data=encoder.predict(x_test)"
   ]
  },
  {
   "cell_type": "code",
   "execution_count": 17,
   "id": "8ffc8f5e",
   "metadata": {},
   "outputs": [
    {
     "data": {
      "image/png": "[encoded data removed]",
      "text/plain": [
       "<Figure size 720x144 with 10 Axes>"
      ]
     },
     "metadata": {
      "needs_background": "light"
     },
     "output_type": "display_data"
    },
    {
     "data": {
      "image/png": "[encoded data removed]",
      "text/plain": [
       "<Figure size 720x144 with 10 Axes>"
      ]
     },
     "metadata": {
      "needs_background": "light"
     },
     "output_type": "display_data"
    },
    {
     "data": {
      "image/png": "[encoded data removed]",
      "text/plain": [
       "<Figure size 720x144 with 10 Axes>"
      ]
     },
     "metadata": {
      "needs_background": "light"
     },
     "output_type": "display_data"
    }
   ],
   "source": [
    "# Display The Final Result\n",
    "display_data(x_test, height=28, width=28, title=\"original data\")\n",
    "display_data(encoded_data, height=2, width=2, title=\"encoded data\")\n",
    "display_data(decoded_data, height=28, width=28, title=\"decoded data\")"
   ]
  },
  {
   "cell_type": "markdown",
   "id": "0e19a49a",
   "metadata": {},
   "source": [
    "Conclusion  : Hence , we have studied and implemented Autoencoders on MNIST dataset ."
   ]
  }
 ],
 "metadata": {
  "kernelspec": {
   "display_name": "Python 3 (ipykernel)",
   "language": "python",
   "name": "python3"
  },
  "language_info": {
   "codemirror_mode": {
    "name": "ipython",
    "version": 3
   },
   "file_extension": ".py",
   "mimetype": "text/x-python",
   "name": "python",
   "nbconvert_exporter": "python",
   "pygments_lexer": "ipython3",
   "version": "3.9.12"
  }
 },
 "nbformat": 4,
 "nbformat_minor": 5
}

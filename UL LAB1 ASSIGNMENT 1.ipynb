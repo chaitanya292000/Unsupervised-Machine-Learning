{
 "cells": [
  {
   "cell_type": "raw",
   "id": "f115863a",
   "metadata": {},
   "source": [
    " Implementing distance measures used in machine learning                  "
   ]
  },
  {
   "cell_type": "code",
   "execution_count": 1,
   "id": "5632df57",
   "metadata": {},
   "outputs": [],
   "source": [
    "#Calculating Euclidian Distance \n",
    "import numpy as np \n",
    "#Function to calculate the Euclidean Distance between two points \n",
    "def euclidean(a,b)->float: \n",
    "    distance = 0 \n",
    "    for index, feature in enumerate(a): \n",
    "        d =(feature - b[index])**2 \n",
    "        distance = distance + d \n",
    "    return np.sqrt(distance)"
   ]
  },
  {
   "cell_type": "code",
   "execution_count": 2,
   "id": "8f65d189",
   "metadata": {},
   "outputs": [
    {
     "data": {
      "text/plain": [
       "2.8284271247461903"
      ]
     },
     "execution_count": 2,
     "metadata": {},
     "output_type": "execute_result"
    }
   ],
   "source": [
    "euclidean((2,3),(4,5))"
   ]
  },
  {
   "cell_type": "code",
   "execution_count": 3,
   "id": "703bd0d4",
   "metadata": {},
   "outputs": [],
   "source": [
    "from scipy.spatial import distance\n",
    "# Our observations \n",
    "a = np.array((5,6,7)) \n",
    "b = np.array((9,8,7)) \n",
    "numpy_dist = np.linalg.norm(a-b) \n",
    "function_dist = euclidean(a,b) \n",
    "scipy_dist = distance.euclidean(a, b)"
   ]
  },
  {
   "cell_type": "code",
   "execution_count": 4,
   "id": "945ee3c6",
   "metadata": {},
   "outputs": [
    {
     "data": {
      "text/plain": [
       "4.47213595499958"
      ]
     },
     "execution_count": 4,
     "metadata": {},
     "output_type": "execute_result"
    }
   ],
   "source": [
    "numpy_dist"
   ]
  },
  {
   "cell_type": "code",
   "execution_count": 5,
   "id": "7b963643",
   "metadata": {},
   "outputs": [
    {
     "data": {
      "text/plain": [
       "4.47213595499958"
      ]
     },
     "execution_count": 5,
     "metadata": {},
     "output_type": "execute_result"
    }
   ],
   "source": [
    "function_dist"
   ]
  },
  {
   "cell_type": "code",
   "execution_count": 6,
   "id": "7707b70e",
   "metadata": {},
   "outputs": [
    {
     "data": {
      "text/plain": [
       "4.47213595499958"
      ]
     },
     "execution_count": 6,
     "metadata": {},
     "output_type": "execute_result"
    }
   ],
   "source": [
    "scipy_dist"
   ]
  },
  {
   "cell_type": "code",
   "execution_count": 7,
   "id": "767e5091",
   "metadata": {},
   "outputs": [
    {
     "name": "stdout",
     "output_type": "stream",
     "text": [
      "53.85164807134504\n"
     ]
    }
   ],
   "source": [
    "# calculating euclidean distance between vectors\n",
    "from math import sqrt\n",
    "# calculate euclidean distance\n",
    "def euclidean_distance(a, b):\n",
    "    return sqrt(sum((e1-e2)**2 for e1, e2 in zip(a,b)))\n",
    "# define data\n",
    "row1 = [10, 20, 30, 40, 50]\n",
    "row2 = [20, 40, 10, 80, 70]\n",
    "# calculate distance\n",
    "dist = euclidean_distance(row1, row2)\n",
    "print(dist)"
   ]
  },
  {
   "cell_type": "code",
   "execution_count": 8,
   "id": "ddcab3c8",
   "metadata": {},
   "outputs": [
    {
     "name": "stdout",
     "output_type": "stream",
     "text": [
      "7.745966692414834\n"
     ]
    }
   ],
   "source": [
    "# calculating euclidean distance between vectors\n",
    "from scipy.spatial.distance import euclidean\n",
    "# define data\n",
    "row1 = [3,4,5,6,7]\n",
    "row2 = [9,8,7,6,5]\n",
    "# calculate distance\n",
    "dist = euclidean(row1, row2)\n",
    "print(dist)"
   ]
  },
  {
   "cell_type": "code",
   "execution_count": 9,
   "id": "31d74d90",
   "metadata": {},
   "outputs": [],
   "source": [
    "#Manhattan Distance \n",
    "import numpy as np \n",
    "#Function to calculate the Manhattan Distance between two points \n",
    "def manhattan(a,b)->int: \n",
    "    distance = 0 \n",
    "    for index, feature in enumerate(a): \n",
    "        d = np.abs(feature - b[index]) \n",
    "        distance = distance + d \n",
    "    return distance\n"
   ]
  },
  {
   "cell_type": "code",
   "execution_count": 10,
   "id": "7bb709ee",
   "metadata": {},
   "outputs": [
    {
     "data": {
      "text/plain": [
       "4"
      ]
     },
     "execution_count": 10,
     "metadata": {},
     "output_type": "execute_result"
    }
   ],
   "source": [
    "manhattan((3,4),(5,6))"
   ]
  },
  {
   "cell_type": "code",
   "execution_count": 11,
   "id": "dc581bf5",
   "metadata": {},
   "outputs": [
    {
     "name": "stdout",
     "output_type": "stream",
     "text": [
      "17\n"
     ]
    }
   ],
   "source": [
    "# calculating manhattan distance between vectors\n",
    "from math import sqrt\n",
    "# calculate manhattan distance\n",
    "def manhattan_distance(a, b):\n",
    "    return sum(abs(e1-e2) for e1, e2 in zip(a,b))\n",
    "# define data\n",
    "row1 = [2,3,4,5,6]\n",
    "row2 = [6,7,8,9,5]\n",
    "# calculate distance\n",
    "dist = manhattan_distance(row1, row2)\n",
    "print(dist)"
   ]
  },
  {
   "cell_type": "code",
   "execution_count": 12,
   "id": "269055df",
   "metadata": {},
   "outputs": [
    {
     "name": "stdout",
     "output_type": "stream",
     "text": [
      "6\n"
     ]
    }
   ],
   "source": [
    "# calculating manhattan distance between vectors\n",
    "from scipy.spatial.distance import cityblock\n",
    "# define data\n",
    "row1 = [7,5,8,4,9]\n",
    "row2 = [9,4,8,3,7]\n",
    "# calculate distance\n",
    "dist = cityblock(row1, row2)\n",
    "print(dist)"
   ]
  },
  {
   "cell_type": "code",
   "execution_count": 13,
   "id": "e85a853c",
   "metadata": {},
   "outputs": [],
   "source": [
    "#Minkowski distance \n",
    "# import libraries \n",
    "import math\n",
    "import numpy as np \n",
    "from decimal import Decimal \n",
    "#Then, we implement a function to calculate the ‘p’ root of any value. This is needed to calculate the Minkowski distance: \n",
    "# Calculate the p root of a certain numeric value \n",
    "def p_root(value, root): \n",
    "    root_value = 1 / float(root) \n",
    "    return round (Decimal(value) **\n",
    "                  Decimal(root_value), 3)\n"
   ]
  },
  {
   "cell_type": "code",
   "execution_count": 14,
   "id": "123b5ee6",
   "metadata": {},
   "outputs": [],
   "source": [
    "# Function implementing the Minkowski distance \n",
    "def minkowski_distance(x, y, p): \n",
    "# pass the p_root function to calculate \n",
    "# all the value of vector \n",
    "    return (p_root(sum(pow(abs(a-b), p) \n",
    "                   for a, b in zip(x, y)), p))"
   ]
  },
  {
   "cell_type": "code",
   "execution_count": 15,
   "id": "e61cc2d4",
   "metadata": {},
   "outputs": [
    {
     "name": "stdout",
     "output_type": "stream",
     "text": [
      "Manhattan Distance (p = 1)\n",
      "9.900\n",
      "Euclidean Distance (p = 2)\n",
      "5.716\n",
      "Intermediate norm Distance (p = 1.5)\n",
      "6.864\n"
     ]
    }
   ],
   "source": [
    "a = np.array((1.2, 2.3, 3.4))\n",
    "b = np.array((4.5, 5.6, 6.7)) \n",
    "# Calculate Manhattan Distance \n",
    "p = 1 \n",
    "print(\"Manhattan Distance (p = 1)\") \n",
    "print(minkowski_distance(a, b, p)) \n",
    "# Calculate Euclidean Distance \n",
    "p = 2 \n",
    "print(\"Euclidean Distance (p = 2)\") \n",
    "print(minkowski_distance(a, b, p)) \n",
    "# Calculate intermediate norm distance \n",
    "p = 1.5 \n",
    "print(\"Intermediate norm Distance (p = 1.5)\") \n",
    "print(minkowski_distance(a, b, p))"
   ]
  },
  {
   "cell_type": "code",
   "execution_count": 16,
   "id": "e30e7f99",
   "metadata": {},
   "outputs": [
    {
     "name": "stdout",
     "output_type": "stream",
     "text": [
      "Manhattan Distance (p = 1)\n",
      "9.9\n",
      "Euclidean Distance (p = 2)\n",
      "5.715767664977295\n",
      "Intermidiate norm Distance (p = 1.5)\n",
      "6.864276616071283\n"
     ]
    }
   ],
   "source": [
    "a = np.array((1.2, 2.3, 3.4)) \n",
    "b = np.array((4.5, 5.6, 6.7)) \n",
    "from scipy.spatial import distance \n",
    "# Calculate Manhattan Distance \n",
    "p = 1 \n",
    "print(\"Manhattan Distance (p = 1)\") \n",
    "print(distance.minkowski(a, b, p)) \n",
    "# Calculate Euclidean Distance \n",
    "p = 2 \n",
    "print(\"Euclidean Distance (p = 2)\") \n",
    "print(distance.minkowski(a, b, p)) \n",
    "# Calculate intermediate norm distance \n",
    "p = 1.5 \n",
    "print(\"Intermidiate norm Distance (p = 1.5)\") \n",
    "print(distance.minkowski(a, b, p))"
   ]
  },
  {
   "cell_type": "code",
   "execution_count": 17,
   "id": "23eca972",
   "metadata": {},
   "outputs": [
    {
     "name": "stdout",
     "output_type": "stream",
     "text": [
      "2\n"
     ]
    }
   ],
   "source": [
    "# Our Data points with binary features \n",
    "a = np.array((1, 0, 1, 0, 1, 0, 1)) \n",
    "b = np.array((1, 0, 1, 1,0 , 0, 1)) \n",
    "# Calculating the Hamming Distance using XOR and sum \n",
    "hamming_distance = np.bitwise_xor(a,b).sum() \n",
    "print(hamming_distance) "
   ]
  },
  {
   "cell_type": "code",
   "execution_count": 18,
   "id": "4532892f",
   "metadata": {},
   "outputs": [
    {
     "name": "stdout",
     "output_type": "stream",
     "text": [
      "0.2857142857142857\n"
     ]
    }
   ],
   "source": [
    "# Our Data points with binary features \n",
    "a = np.array((1, 0, 1, 0, 1, 0, 1)) \n",
    "b = np.array((1, 0, 1, 1,0 , 0, 1)) \n",
    "# Calculating the Hamming Distance using XOR and sum \n",
    "hamming_distance = np.bitwise_xor(a,b).sum()/len(a) \n",
    "print(hamming_distance)  "
   ]
  },
  {
   "cell_type": "code",
   "execution_count": 19,
   "id": "001320c7",
   "metadata": {},
   "outputs": [
    {
     "name": "stdout",
     "output_type": "stream",
     "text": [
      "0.2857142857142857\n"
     ]
    }
   ],
   "source": [
    "# Our Data points with binary features \n",
    "a = np.array((1, 0, 1, 0, 1, 0, 1))\n",
    "b = np.array((1, 0, 1, 1,0 , 0, 1)) \n",
    "# Calculating the Hamming Distance Scipy \n",
    "from scipy.spatial import distance \n",
    "# Calculate Hamming Distance \n",
    "print(distance.hamming(a,b))"
   ]
  },
  {
   "cell_type": "code",
   "execution_count": 20,
   "id": "83af45fe",
   "metadata": {},
   "outputs": [
    {
     "name": "stdout",
     "output_type": "stream",
     "text": [
      "0.16666666666666666\n",
      "0.16666666666666666\n"
     ]
    }
   ],
   "source": [
    "# calculate hamming distance\n",
    "def hamming_distance(a, b):\n",
    "    return sum(abs(e1 - e2) for e1, e2 in zip(a, b)) / len(a)\n",
    "# define data\n",
    "row1 = [0, 0, 0, 0, 1, 1]\n",
    "row2 = [0, 0, 0, 0, 1, 0]\n",
    "# calculate distance\n",
    "dist = hamming_distance(row1, row2)\n",
    "print(dist)\n",
    "# calculating hamming distance between bit strings\n",
    "from scipy.spatial.distance import hamming\n",
    "# define data\n",
    "row1 = [0, 0,0 , 0, 1, 1]\n",
    "row2 = [0, 0, 0, 0, 1,0]\n",
    "# calculate distance\n",
    "dist = hamming(row1, row2)\n",
    "print(dist)"
   ]
  },
  {
   "cell_type": "code",
   "execution_count": 21,
   "id": "66e4015f",
   "metadata": {},
   "outputs": [
    {
     "name": "stdout",
     "output_type": "stream",
     "text": [
      "110.0\n",
      "53.85164807134504\n"
     ]
    }
   ],
   "source": [
    "# calculating minkowski distance between vectors\n",
    "from math import sqrt\n",
    "# calculate minkowski distance\n",
    "def minkowski_distance(a, b, p):\n",
    "    return sum(abs(e1-e2)**p for e1, e2 in zip(a,b))**(1/p)\n",
    "# define data\n",
    "row1 = [10, 20, 30, 40, 50]\n",
    "row2 = [20, 40, 10, 80, 70]\n",
    "# calculate distance (p=1)\n",
    "dist = minkowski_distance(row1, row2, 1)\n",
    "print(dist)\n",
    "# calculate distance (p=2)\n",
    "dist = minkowski_distance(row1, row2, 2)\n",
    "print(dist)"
   ]
  },
  {
   "cell_type": "code",
   "execution_count": 22,
   "id": "bcf69b87",
   "metadata": {},
   "outputs": [
    {
     "name": "stdout",
     "output_type": "stream",
     "text": [
      "90.0\n",
      "50.0\n"
     ]
    }
   ],
   "source": [
    "# calculating minkowski distance between vectors\n",
    "from scipy.spatial import minkowski_distance\n",
    "# define data\n",
    "row1 = [10, 20, 30, 40, 50]\n",
    "row2 = [20, 20, 10, 80, 70]\n",
    "# calculate distance (p=1)\n",
    "dist = minkowski_distance(row1, row2, 1)\n",
    "print(dist)\n",
    "# calculate distance (p=2)\n",
    "dist = minkowski_distance(row1, row2, 2)\n",
    "print(dist)"
   ]
  },
  {
   "cell_type": "code",
   "execution_count": null,
   "id": "d3601f3f",
   "metadata": {},
   "outputs": [],
   "source": [
    "# Conclusion : Thus we have understood and implemented various distance measures used in machine learning algorithms ."
   ]
  }
 ],
 "metadata": {
  "kernelspec": {
   "display_name": "Python 3 (ipykernel)",
   "language": "python",
   "name": "python3"
  },
  "language_info": {
   "codemirror_mode": {
    "name": "ipython",
    "version": 3
   },
   "file_extension": ".py",
   "mimetype": "text/x-python",
   "name": "python",
   "nbconvert_exporter": "python",
   "pygments_lexer": "ipython3",
   "version": "3.9.12"
  }
 },
 "nbformat": 4,
 "nbformat_minor": 5
}
